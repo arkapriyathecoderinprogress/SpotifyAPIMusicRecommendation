{
  "nbformat": 4,
  "nbformat_minor": 0,
  "metadata": {
    "colab": {
      "provenance": [],
      "authorship_tag": "ABX9TyP0A8n6UIs3s42Ge+oW8f76",
      "include_colab_link": true
    },
    "kernelspec": {
      "name": "python3",
      "display_name": "Python 3"
    },
    "language_info": {
      "name": "python"
    }
  },
  "cells": [
    {
      "cell_type": "markdown",
      "metadata": {
        "id": "view-in-github",
        "colab_type": "text"
      },
      "source": [
        "<a href=\"https://colab.research.google.com/github/arkapriyathecoderinprogress/SpotifyAPIMusicRecommendation/blob/main/SpotifyAPIMusicRecommendation.ipynb\" target=\"_parent\"><img src=\"https://colab.research.google.com/assets/colab-badge.svg\" alt=\"Open In Colab\"/></a>"
      ]
    },
    {
      "cell_type": "code",
      "execution_count": 2,
      "metadata": {
        "colab": {
          "base_uri": "https://localhost:8080/"
        },
        "id": "SzDpnY0lt2zI",
        "outputId": "f43237d2-a531-46b6-e4cb-0a153bccceb9"
      },
      "outputs": [
        {
          "output_type": "stream",
          "name": "stdout",
          "text": [
            "Access token obtained successfully!\n"
          ]
        }
      ],
      "source": [
        "import requests\n",
        "import base64\n",
        "\n",
        "CLIENT_ID = '3218488ec9484af0b492bf51dfbeabf7'\n",
        "CLIENT_SECRET = 'eb6cc30f187a4390b05c10f103a19a2d'\n",
        "\n",
        "# Base64 encode the client ID and client secret\n",
        "client_credentials = f\"{CLIENT_ID}:{CLIENT_SECRET}\"\n",
        "client_credentials_base64 = base64.b64encode(client_credentials.encode())\n",
        "\n",
        "# Request the access token\n",
        "token_url = 'https://accounts.spotify.com/api/token'\n",
        "headers = {\n",
        "    'Authorization': f'Basic {client_credentials_base64.decode()}'\n",
        "}\n",
        "data = {\n",
        "    'grant_type': 'client_credentials'\n",
        "}\n",
        "response = requests.post(token_url, data=data, headers=headers)\n",
        "\n",
        "if response.status_code == 200:\n",
        "  access_token = response.json()['access_token']\n",
        "  print(\"Access token obtained successfully!\")\n",
        "else:\n",
        "  print(\"ERROR obtaining access token...\")\n",
        "  exit()"
      ]
    },
    {
      "cell_type": "code",
      "source": [
        "!pip install spotipy"
      ],
      "metadata": {
        "colab": {
          "base_uri": "https://localhost:8080/"
        },
        "id": "RjjZa7bhwVLb",
        "outputId": "6e2f61cd-f62c-438f-dc3e-bdbd52e904e4"
      },
      "execution_count": 4,
      "outputs": [
        {
          "output_type": "stream",
          "name": "stdout",
          "text": [
            "Collecting spotipy\n",
            "  Downloading spotipy-2.24.0-py3-none-any.whl.metadata (4.9 kB)\n",
            "Collecting redis>=3.5.3 (from spotipy)\n",
            "  Downloading redis-5.0.8-py3-none-any.whl.metadata (9.2 kB)\n",
            "Requirement already satisfied: requests>=2.25.0 in /usr/local/lib/python3.10/dist-packages (from spotipy) (2.32.3)\n",
            "Requirement already satisfied: urllib3>=1.26.0 in /usr/local/lib/python3.10/dist-packages (from spotipy) (2.0.7)\n",
            "Requirement already satisfied: async-timeout>=4.0.3 in /usr/local/lib/python3.10/dist-packages (from redis>=3.5.3->spotipy) (4.0.3)\n",
            "Requirement already satisfied: charset-normalizer<4,>=2 in /usr/local/lib/python3.10/dist-packages (from requests>=2.25.0->spotipy) (3.3.2)\n",
            "Requirement already satisfied: idna<4,>=2.5 in /usr/local/lib/python3.10/dist-packages (from requests>=2.25.0->spotipy) (3.7)\n",
            "Requirement already satisfied: certifi>=2017.4.17 in /usr/local/lib/python3.10/dist-packages (from requests>=2.25.0->spotipy) (2024.7.4)\n",
            "Downloading spotipy-2.24.0-py3-none-any.whl (30 kB)\n",
            "Downloading redis-5.0.8-py3-none-any.whl (255 kB)\n",
            "\u001b[2K   \u001b[90m━━━━━━━━━━━━━━━━━━━━━━━━━━━━━━━━━━━━━━━━\u001b[0m \u001b[32m255.6/255.6 kB\u001b[0m \u001b[31m5.8 MB/s\u001b[0m eta \u001b[36m0:00:00\u001b[0m\n",
            "\u001b[?25hInstalling collected packages: redis, spotipy\n",
            "Successfully installed redis-5.0.8 spotipy-2.24.0\n"
          ]
        }
      ]
    },
    {
      "cell_type": "code",
      "source": [
        "import pandas as pd\n",
        "import spotipy\n",
        "from spotipy.oauth2 import SpotifyOAuth\n",
        "\n",
        "def get_trending_playlist_data(playlist_id, access_token):\n",
        "  # Set up Spotipy with the access token\n",
        "  sp = spotipy.Spotify(auth=access_token)\n",
        "\n",
        "  # Get the tracks from the playlist\n",
        "  playlist_tracks = sp.playlist_tracks(playlist_id, fields='items(track(id, name, artists, album(id,name)))')\n",
        "\n",
        "  # Extract relevant information and store in a list of dictionaries\n",
        "  music_data = []\n",
        "  for track_info in playlist_tracks['items']:\n",
        "    track = track_info['track']\n",
        "    track_name = track['name']\n",
        "    artists = ', '.join([artist['name'] for artist in track['artists']])\n",
        "    album_name = track['album']['name']\n",
        "    album_id = track['album']['id']\n",
        "    track_id = track['id']\n",
        "\n",
        "    # Get audio features for the track\n",
        "    audio_features = sp.audio_features(track_id)[0] if track_id != 'Not available' else None\n",
        "\n",
        "    # Get release date of the album\n",
        "    try:\n",
        "      album_info = sp.album(album_id) if album_id != 'Not available' else None\n",
        "      release_date = album_info['release_date'] if album_info else None\n",
        "    except:\n",
        "      release_date = None\n",
        "\n",
        "    # Get the popularity of the track\n",
        "    try:\n",
        "      track_info = sp.track(track_id) if track_id != 'Not available' else None\n",
        "      popularity = track_info['popularity'] if track_info else None\n",
        "    except:\n",
        "      popularity = None\n",
        "\n",
        "    # Add additional track information to the track data\n",
        "    track_data = {\n",
        "        'Track Name': track_name,\n",
        "        'Artists': artists,\n",
        "        'Album Name': album_name,\n",
        "        'Album ID': album_id,\n",
        "        'Track ID': track_id,\n",
        "        'Popularity': popularity,\n",
        "        'Release Date': release_date,\n",
        "        'Duration (ms)': audio_features['duration_ms'] if audio_features else None,\n",
        "        'Explicit': track_info.get('explicit', None),\n",
        "        'External URLs': track_info.get('external_urls', {}).get('spotify', None),\n",
        "        'Danceability': audio_features['danceability'] if audio_features else None,\n",
        "        'Energy': audio_features['energy'] if audio_features else None,\n",
        "        'Key': audio_features['key'] if audio_features else None,\n",
        "        'Loudness': audio_features['loudness'] if audio_features else None,\n",
        "        'Mode': audio_features['mode'] if audio_features else None,\n",
        "        'Speechiness': audio_features['speechiness'] if audio_features else None,\n",
        "        'Acousticness': audio_features['acousticness'] if audio_features else None,\n",
        "        'Instrumentalness': audio_features['instrumentalness'] if audio_features else None,\n",
        "        'Liveness': audio_features['liveness'] if audio_features else None,\n",
        "        'Valence': audio_features['valence'] if audio_features else None,\n",
        "        'Tempo': audio_features['tempo'] if audio_features else None,\n",
        "        'Time Signature': audio_features['time_signature'] if audio_features else None\n",
        "    }\n",
        "    music_data.append(track_data)\n",
        "\n",
        "  # Create a pandas DataFrame from the list of dictionaries\n",
        "  df = pd.DataFrame(music_data)\n",
        "\n",
        "  return df"
      ],
      "metadata": {
        "id": "4P8hxm5Bwgsb"
      },
      "execution_count": 5,
      "outputs": []
    },
    {
      "cell_type": "code",
      "source": [
        "playlist_id = '3MsR9p5xhhfmQYNp2XWJ2Z'\n",
        "\n",
        "# Call the function to get the music data from the playlist and store in it a DataFrame\n",
        "music_df = get_trending_playlist_data(playlist_id, access_token)\n",
        "\n",
        "# Display the DataFrame\n",
        "print(music_df)"
      ],
      "metadata": {
        "colab": {
          "base_uri": "https://localhost:8080/"
        },
        "id": "-JSzeDJ-4zep",
        "outputId": "447a7475-c517-4938-ba30-a8c3d2ad2330"
      },
      "execution_count": 7,
      "outputs": [
        {
          "output_type": "stream",
          "name": "stdout",
          "text": [
            "                                        Track Name  \\\n",
            "0                                   Wait a Minute!   \n",
            "1                         love nwantiti (ah ah ah)   \n",
            "2                                     Shape of You   \n",
            "3                                        Despacito   \n",
            "4                                  Let Me Love You   \n",
            "..                                             ...   \n",
            "95                                           Water   \n",
            "96                              Summertime Sadness   \n",
            "97                               Despacito - Remix   \n",
            "98  One Of The Girls (with JENNIE, Lily Rose Depp)   \n",
            "99                               Diet Mountain Dew   \n",
            "\n",
            "                                    Artists  \\\n",
            "0                                    WILLOW   \n",
            "1                                      CKay   \n",
            "2                                Ed Sheeran   \n",
            "3                  Luis Fonsi, Daddy Yankee   \n",
            "4                   DJ Snake, Justin Bieber   \n",
            "..                                      ...   \n",
            "95                                     Tyla   \n",
            "96                             Lana Del Rey   \n",
            "97  Luis Fonsi, Daddy Yankee, Justin Bieber   \n",
            "98       The Weeknd, JENNIE, Lily-Rose Depp   \n",
            "99                             Lana Del Rey   \n",
            "\n",
            "                                           Album Name                Album ID  \\\n",
            "0                                        ARDIPITHECUS  0oFPwpDPEsrIYoeGZLFQUv   \n",
            "1                                      CKay The First  6lheAtw3IcJvflIhLbykih   \n",
            "2                                          ÷ (Deluxe)  3T4tUhGYeRNVUGevb0wThu   \n",
            "3                                                VIDA  5C0YLr4OoRGFDaqdMQmkeH   \n",
            "4                                              Encore  02sEJTj1sye1JaqxqpcSCp   \n",
            "..                                                ...                     ...   \n",
            "95                                              Water  22sXXkKgjEuawIFL1e1tRw   \n",
            "96                 Born To Die - The Paradise Edition  5VoeRuTrGhTbKelUfwymwu   \n",
            "97              Despacito Feat. Justin Bieber (Remix)  3Gq2Dme9nesdgoqNNlcN8O   \n",
            "98  The Idol Episode 4 (Music from the HBO Origina...  7tzVd1fwkxsorytCBjEJkU   \n",
            "99                 Born To Die - The Paradise Edition  5VoeRuTrGhTbKelUfwymwu   \n",
            "\n",
            "                  Track ID  Popularity Release Date  Duration (ms)  Explicit  \\\n",
            "0   5e08a8D8T3z4LDXbUIjxKQ          61   2015-12-18         196520     False   \n",
            "1   2Xr1dTzJee307rmrkt8c0g          76   2019-08-30         145800      True   \n",
            "2   7qiZfU4dY1lWllzX7mPBI3          85   2017-03-03         233713     False   \n",
            "3   6habFhsOp2NvshLv26DqMb          79   2019-02-01         229360     False   \n",
            "4   0lYBSQXN6rCTvUZvg9S0lU          83   2016-08-05         205947     False   \n",
            "..                     ...         ...          ...            ...       ...   \n",
            "95  5aIVCx5tnk0ntmdiinnYvw          86   2023-07-28         200256     False   \n",
            "96  3BJe4B8zGnqEdQPMvfVjuS          84   2012-01-01         265427     False   \n",
            "97  6rPO02ozF3bM7NnOV4h6s2          70   2017-04-17         228827     False   \n",
            "98  7CyPwkp0oE8Ro9Dd5CUDjW          91   2023-06-23         244685     False   \n",
            "99  2vtmY2mSccRzKGjtcHSzI3          78   2012-01-01         222920     False   \n",
            "\n",
            "                                        External URLs  ...  Key  Loudness  \\\n",
            "0   https://open.spotify.com/track/5e08a8D8T3z4LDX...  ...    3    -5.279   \n",
            "1   https://open.spotify.com/track/2Xr1dTzJee307rm...  ...    8    -3.805   \n",
            "2   https://open.spotify.com/track/7qiZfU4dY1lWllz...  ...    1    -3.183   \n",
            "3   https://open.spotify.com/track/6habFhsOp2NvshL...  ...    2    -4.787   \n",
            "4   https://open.spotify.com/track/0lYBSQXN6rCTvUZ...  ...    8    -5.371   \n",
            "..                                                ...  ...  ...       ...   \n",
            "95  https://open.spotify.com/track/5aIVCx5tnk0ntmd...  ...    3    -3.495   \n",
            "96  https://open.spotify.com/track/3BJe4B8zGnqEdQP...  ...    1    -6.826   \n",
            "97  https://open.spotify.com/track/6rPO02ozF3bM7Nn...  ...    2    -4.353   \n",
            "98  https://open.spotify.com/track/7CyPwkp0oE8Ro9D...  ...    8    -6.221   \n",
            "99  https://open.spotify.com/track/2vtmY2mSccRzKGj...  ...   10    -5.921   \n",
            "\n",
            "    Mode  Speechiness  Acousticness  Instrumentalness  Liveness  Valence  \\\n",
            "0      0       0.0278        0.0371          0.000019    0.0943    0.672   \n",
            "1      1       0.0411        0.3650          0.001370    0.1610    0.533   \n",
            "2      0       0.0802        0.5810          0.000000    0.0931    0.931   \n",
            "3      1       0.1530        0.1980          0.000000    0.0670    0.839   \n",
            "4      1       0.0580        0.0863          0.000027    0.1350    0.159   \n",
            "..   ...          ...           ...               ...       ...      ...   \n",
            "95     0       0.0755        0.0856          0.000000    0.1370    0.519   \n",
            "96     0       0.0335        0.0542          0.000002    0.1220    0.235   \n",
            "97     1       0.1670        0.2280          0.000000    0.0967    0.816   \n",
            "98     1       0.0442        0.0393          0.000002    0.1510    0.190   \n",
            "99     0       0.0417        0.2760          0.000000    0.4110    0.533   \n",
            "\n",
            "      Tempo  Time Signature  \n",
            "0   101.003               4  \n",
            "1    93.005               4  \n",
            "2    95.977               4  \n",
            "3   177.928               4  \n",
            "4   199.892               4  \n",
            "..      ...             ...  \n",
            "95  117.187               4  \n",
            "96  111.968               4  \n",
            "97  178.085               4  \n",
            "98   84.828               4  \n",
            "99   88.013               4  \n",
            "\n",
            "[100 rows x 22 columns]\n"
          ]
        }
      ]
    },
    {
      "cell_type": "code",
      "source": [
        "print(music_df.isnull().sum())"
      ],
      "metadata": {
        "colab": {
          "base_uri": "https://localhost:8080/"
        },
        "id": "W4C466F59NsI",
        "outputId": "b45cfa71-fdb5-40fb-c24a-71f4e054afbd"
      },
      "execution_count": 9,
      "outputs": [
        {
          "output_type": "stream",
          "name": "stdout",
          "text": [
            "Track Name          0\n",
            "Artists             0\n",
            "Album Name          0\n",
            "Album ID            0\n",
            "Track ID            0\n",
            "Popularity          0\n",
            "Release Date        0\n",
            "Duration (ms)       0\n",
            "Explicit            0\n",
            "External URLs       0\n",
            "Danceability        0\n",
            "Energy              0\n",
            "Key                 0\n",
            "Loudness            0\n",
            "Mode                0\n",
            "Speechiness         0\n",
            "Acousticness        0\n",
            "Instrumentalness    0\n",
            "Liveness            0\n",
            "Valence             0\n",
            "Tempo               0\n",
            "Time Signature      0\n",
            "dtype: int64\n"
          ]
        }
      ]
    },
    {
      "cell_type": "code",
      "source": [
        "import pandas as pd\n",
        "import numpy as np\n",
        "from sklearn.model_selection import train_test_split\n",
        "from sklearn.preprocessing import MinMaxScaler\n",
        "from datetime import datetime\n",
        "from sklearn.metrics.pairwise import cosine_similarity\n",
        "\n",
        "data = music_df"
      ],
      "metadata": {
        "id": "1dViTZam4V0r"
      },
      "execution_count": 10,
      "outputs": []
    },
    {
      "cell_type": "code",
      "source": [
        "# Function to calculate weighted popularity scores based on release date\n",
        "def calculate_weighted_popularity(release_date):\n",
        "  # Convert the release date to datetime object\n",
        "  release_date = datetime.strptime(release_date, '%Y-%m-%d')\n",
        "\n",
        "  # Calculate the time span between release date and today's date\n",
        "  time_span = datetime.now() - release_date\n",
        "\n",
        "  # Calculate the weighted popularity score based on time span\n",
        "  weight = 1 / (time_span.days + 1)\n",
        "  return weight"
      ],
      "metadata": {
        "id": "ecZ_swfb49aU"
      },
      "execution_count": 12,
      "outputs": []
    },
    {
      "cell_type": "code",
      "source": [
        "# Normalize the music features using Min-Max Scaling\n",
        "scaler = MinMaxScaler()\n",
        "music_features = music_df[['Danceability', 'Energy', 'Key',\n",
        "                           'Loudness', 'Mode', 'Speechiness', 'Acousticness',\n",
        "                           'Instrumentalness', 'Liveness', 'Valence', 'Tempo']].values\n",
        "\n",
        "music_features_scaled = scaler.fit_transform(music_features)"
      ],
      "metadata": {
        "id": "f6dNHXud6wqW"
      },
      "execution_count": 13,
      "outputs": []
    },
    {
      "cell_type": "code",
      "source": [
        "# a function to get content-based recommendations based on music features\n",
        "def content_based_recommendations(input_song_name, num_recommendations=5):\n",
        "  if input_song_name not in music_df['Track Name'].values:\n",
        "    print(f\" '{input_song_name}' not found in the dataset. please enter a valid song name.\")\n",
        "    return\n",
        "\n",
        "  # Get the index of the input song in the music DataFrame\n",
        "  input_song_index = music_df[music_df['Track Name'] == input_song_name].index[0]\n",
        "\n",
        "  # Calculate the similarity scores based on music features (cosine similarity)\n",
        "  similarity_scores = cosine_similarity([music_features_scaled[input_song_index]], music_features_scaled)\n",
        "\n",
        "  # Get the indices of the most similar songs\n",
        "  similar_song_indices = similarity_scores.argsort()[0][::-1][1:num_recommendations + 1]\n",
        "\n",
        "  # Get the names of the most similar songs based on content-based filtering\n",
        "  return music_df.iloc[similar_song_indices][['Track Name', 'Artists', 'Album Name', 'Release Date', 'Popularity']]"
      ],
      "metadata": {
        "id": "-LIX99SsNK2A"
      },
      "execution_count": 16,
      "outputs": []
    },
    {
      "cell_type": "code",
      "source": [
        "import pandas as pd\n",
        "\n",
        "def hybrid_recommendations(input_song_name, num_recommendations=5, alpha=0.5):\n",
        "  if input_song_name not in music_df['Track Name'].values:\n",
        "    print(f\" '{input_song_name} not found in the dataset. Please enter a valid song name.\")\n",
        "    return\n",
        "\n",
        "  content_based_rec = content_based_recommendations(input_song_name, num_recommendations)\n",
        "\n",
        "  popularity_score = music_df.loc[music_df['Track Name'] == input_song_name, 'Popularity'].values[0]\n",
        "\n",
        "  weighted_popularity_score = popularity_score * calculate_weighted_popularity(\n",
        "      music_df.loc[music_df['Track Name'] == input_song_name, 'Release Date'].values[0]\n",
        "  )\n",
        "\n",
        "  new_entry = pd.DataFrame({\n",
        "      'Track Name': [input_song_name],\n",
        "      'Artists': [music_df.loc[music_df['Track Name'] == input_song_name, 'Artists'].values[0]],\n",
        "      'Album Name': [music_df.loc[music_df['Track Name'] == input_song_name, 'Album Name'].values[0]],\n",
        "      'Release Date': [music_df.loc[music_df['Track Name'] == input_song_name, 'Release Date'].values[0]],\n",
        "      'Popularity': [weighted_popularity_score]\n",
        "  })\n",
        "\n",
        "  hybrid_recommendations = pd.concat([content_based_rec, new_entry], ignore_index=True)\n",
        "\n",
        "  hybrid_recommendations = hybrid_recommendations.sort_values(by='Popularity', ascending=False)\n",
        "\n",
        "  hybrid_recommendations = hybrid_recommendations[hybrid_recommendations['Track Name'] != input_song_name]\n",
        "\n",
        "  return hybrid_recommendations"
      ],
      "metadata": {
        "id": "u5eCfG4gdo0a"
      },
      "execution_count": 17,
      "outputs": []
    },
    {
      "cell_type": "code",
      "source": [
        "input_song_name = \"Despacito\"\n",
        "recommendations = hybrid_recommendations(input_song_name, num_recommendations=5)\n",
        "print(f\"Hybrid recommended songs for '{input_song_name}':\")\n",
        "print(recommendations)"
      ],
      "metadata": {
        "colab": {
          "base_uri": "https://localhost:8080/"
        },
        "id": "r_OXb_J6hNU5",
        "outputId": "5c81d203-3cc0-4699-d050-9787a5ace8b7"
      },
      "execution_count": 18,
      "outputs": [
        {
          "output_type": "stream",
          "name": "stdout",
          "text": [
            "Hybrid recommended songs for 'Despacito':\n",
            "                  Track Name                                  Artists  \\\n",
            "2  STAY (with Justin Bieber)             The Kid LAROI, Justin Bieber   \n",
            "1                  positions                            Ariana Grande   \n",
            "0          Despacito - Remix  Luis Fonsi, Daddy Yankee, Justin Bieber   \n",
            "3           Take You Dancing                             Jason Derulo   \n",
            "4          Super Freaky Girl                              Nicki Minaj   \n",
            "\n",
            "                              Album Name Release Date  Popularity  \n",
            "2              STAY (with Justin Bieber)   2021-07-09        80.0  \n",
            "1                              Positions   2020-10-30        79.0  \n",
            "0  Despacito Feat. Justin Bieber (Remix)   2017-04-17        70.0  \n",
            "3                       Take You Dancing   2020-07-22        69.0  \n",
            "4                      Super Freaky Girl   2022-08-12        69.0  \n"
          ]
        }
      ]
    }
  ]
}